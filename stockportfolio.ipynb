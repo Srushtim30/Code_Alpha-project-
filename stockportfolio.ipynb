{
 "cells": [
  {
   "cell_type": "code",
   "execution_count": 2,
   "id": "23540563-b24e-4039-9e46-b0ea56efecbe",
   "metadata": {},
   "outputs": [
    {
     "name": "stdin",
     "output_type": "stream",
     "text": [
      "Enter stock symbol (or 'done' to finish):  AAPL\n",
      "Enter quantity of AAPL:  2\n",
      "Enter stock symbol (or 'done' to finish):  TSLA\n",
      "Enter quantity of TSLA:  4\n",
      "Enter stock symbol (or 'done' to finish):  SSS\n"
     ]
    },
    {
     "name": "stdout",
     "output_type": "stream",
     "text": [
      "Stock not found in list.\n"
     ]
    },
    {
     "name": "stdin",
     "output_type": "stream",
     "text": [
      "Enter stock symbol (or 'done' to finish):  DONE\n"
     ]
    },
    {
     "name": "stdout",
     "output_type": "stream",
     "text": [
      "\n",
      "Total Investment Value: $1360\n"
     ]
    },
    {
     "name": "stdin",
     "output_type": "stream",
     "text": [
      "Do you want to save this result? (yes/no):  yes\n"
     ]
    },
    {
     "name": "stdout",
     "output_type": "stream",
     "text": [
      "Result saved to portfolio.txt\n"
     ]
    }
   ],
   "source": [
    "stock_prices = {\n",
    "    \"AAPL\": 180,\n",
    "    \"TSLA\": 250,\n",
    "    \"GOOG\": 140,\n",
    "    \"MSFT\": 300,\n",
    "}\n",
    "total_investment = 0\n",
    "\n",
    "while True:\n",
    "    stock = input(\"Enter stock symbol (or 'done' to finish): \").upper()\n",
    "    if stock == \"DONE\":\n",
    "        break\n",
    "    if stock in stock_prices:\n",
    "        qty = int(input(f\"Enter quantity of {stock}: \"))\n",
    "        total_investment += stock_prices[stock] * qty\n",
    "    else:\n",
    "        print(\"Stock not found in list.\")\n",
    "\n",
    "print(f\"\\nTotal Investment Value: ${total_investment}\")\n",
    "\n",
    "save = input(\"Do you want to save this result? (yes/no): \").lower()\n",
    "if save == \"yes\":\n",
    "    with open(\"portfolio.txt\", \"w\") as file:\n",
    "        file.write(f\"Total Investment Value: ${total_investment}\")\n",
    "    print(\"Result saved to portfolio.txt\")\n"
   ]
  },
  {
   "cell_type": "code",
   "execution_count": null,
   "id": "e2e85ed6-1414-471d-9f5f-709f26db2e00",
   "metadata": {},
   "outputs": [],
   "source": []
  }
 ],
 "metadata": {
  "kernelspec": {
   "display_name": "Python 3 (ipykernel)",
   "language": "python",
   "name": "python3"
  },
  "language_info": {
   "codemirror_mode": {
    "name": "ipython",
    "version": 3
   },
   "file_extension": ".py",
   "mimetype": "text/x-python",
   "name": "python",
   "nbconvert_exporter": "python",
   "pygments_lexer": "ipython3",
   "version": "3.13.5"
  }
 },
 "nbformat": 4,
 "nbformat_minor": 5
}
