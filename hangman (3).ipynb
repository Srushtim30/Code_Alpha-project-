{
 "cells": [
  {
   "cell_type": "code",
   "execution_count": 6,
   "id": "baa93e28-5a6b-4694-b012-614f9bf73b70",
   "metadata": {},
   "outputs": [
    {
     "name": "stdout",
     "output_type": "stream",
     "text": [
      "\n",
      "Word: _ _ _ _ _\n",
      "Wrong guesses (0/6): \n"
     ]
    },
    {
     "name": "stdin",
     "output_type": "stream",
     "text": [
      "Guess a letter:  r\n"
     ]
    },
    {
     "name": "stdout",
     "output_type": "stream",
     "text": [
      "\n",
      "Word: _ _ _ _ _\n",
      "Wrong guesses (1/6): r\n"
     ]
    },
    {
     "name": "stdin",
     "output_type": "stream",
     "text": [
      "Guess a letter:  c\n"
     ]
    },
    {
     "name": "stdout",
     "output_type": "stream",
     "text": [
      "\n",
      "Word: c _ _ _ _\n",
      "Wrong guesses (1/6): r\n"
     ]
    },
    {
     "name": "stdin",
     "output_type": "stream",
     "text": [
      "Guess a letter:  a\n"
     ]
    },
    {
     "name": "stdout",
     "output_type": "stream",
     "text": [
      "\n",
      "Word: c a _ _ _\n",
      "Wrong guesses (1/6): r\n"
     ]
    },
    {
     "name": "stdin",
     "output_type": "stream",
     "text": [
      "Guess a letter:  n\n"
     ]
    },
    {
     "name": "stdout",
     "output_type": "stream",
     "text": [
      "\n",
      "Word: c a n _ _\n",
      "Wrong guesses (1/6): r\n"
     ]
    },
    {
     "name": "stdin",
     "output_type": "stream",
     "text": [
      "Guess a letter:  t\n"
     ]
    },
    {
     "name": "stdout",
     "output_type": "stream",
     "text": [
      "\n",
      "Word: c a n _ _\n",
      "Wrong guesses (2/6): r, t\n"
     ]
    },
    {
     "name": "stdin",
     "output_type": "stream",
     "text": [
      "Guess a letter:  u\n"
     ]
    },
    {
     "name": "stdout",
     "output_type": "stream",
     "text": [
      "\n",
      "Word: c a n _ _\n",
      "Wrong guesses (3/6): r, t, u\n"
     ]
    },
    {
     "name": "stdin",
     "output_type": "stream",
     "text": [
      "Guess a letter:  i\n"
     ]
    },
    {
     "name": "stdout",
     "output_type": "stream",
     "text": [
      "\n",
      "Word: c a n _ _\n",
      "Wrong guesses (4/6): i, r, t, u\n"
     ]
    },
    {
     "name": "stdin",
     "output_type": "stream",
     "text": [
      "Guess a letter:  o\n"
     ]
    },
    {
     "name": "stdout",
     "output_type": "stream",
     "text": [
      "\n",
      "Word: c a n _ _\n",
      "Wrong guesses (5/6): i, o, r, t, u\n"
     ]
    },
    {
     "name": "stdin",
     "output_type": "stream",
     "text": [
      "Guess a letter:  p\n"
     ]
    },
    {
     "name": "stdout",
     "output_type": "stream",
     "text": [
      "\n",
      "Word: c a n _ _\n",
      "Wrong guesses (6/6): i, o, p, r, t, u\n",
      "You've been hanged! The word was candy\n"
     ]
    }
   ],
   "source": [
    "import random\n",
    "\n",
    "def hangman():\n",
    "    words = [\"apple\", \"robot\", \"candy\", \"pizza\", \"glass\"]\n",
    "    secret = random.choice(words)\n",
    "    guessed = set()\n",
    "    wrong = set()\n",
    "    MAX_WRONG = 6\n",
    "\n",
    "    while True:\n",
    "        display = \" \".join([c if c in guessed else \"_\" for c in secret])\n",
    "        print(f\"\\nWord: {display}\")\n",
    "        print(f\"Wrong guesses ({len(wrong)}/{MAX_WRONG}): {', '.join(sorted(wrong))}\")\n",
    "\n",
    "        # Check win/loss\n",
    "        if set(secret) <= guessed:\n",
    "            print(\"You win! The word was\", secret)\n",
    "            break\n",
    "        if len(wrong) >= MAX_WRONG:\n",
    "            print(\"You've been hanged! The word was\", secret)\n",
    "            break\n",
    "\n",
    "        # Get player guess\n",
    "        guess = input(\"Guess a letter: \").lower()\n",
    "        if len(guess) != 1 or not guess.isalpha():\n",
    "            print(\"Please enter a single letter.\")\n",
    "            continue\n",
    "        if guess in guessed or guess in wrong:\n",
    "            print(\"You already tried that.\")\n",
    "            continue\n",
    "\n",
    "        # Process guess\n",
    "        if guess in secret:\n",
    "            guessed.add(guess)\n",
    "        else:\n",
    "            wrong.add(guess)\n",
    "\n",
    "if __name__ == \"__main__\":\n",
    "    hangman()\n"
   ]
  },
  {
   "cell_type": "code",
   "execution_count": null,
   "id": "d84f2bd9-a000-41f9-8f39-f807425a4090",
   "metadata": {},
   "outputs": [],
   "source": []
  }
 ],
 "metadata": {
  "kernelspec": {
   "display_name": "Python 3 (ipykernel)",
   "language": "python",
   "name": "python3"
  },
  "language_info": {
   "codemirror_mode": {
    "name": "ipython",
    "version": 3
   },
   "file_extension": ".py",
   "mimetype": "text/x-python",
   "name": "python",
   "nbconvert_exporter": "python",
   "pygments_lexer": "ipython3",
   "version": "3.13.5"
  }
 },
 "nbformat": 4,
 "nbformat_minor": 5
}
